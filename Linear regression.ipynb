{
 "cells": [
  {
   "cell_type": "markdown",
   "id": "b564773a",
   "metadata": {},
   "source": [
    "# Linear Regression in one variable\n",
    "\n",
    "## Problem statement: Suppose we would like to find out what profit(or loss) can be gained from a food truck in a arbitrary city, based on its popluation."
   ]
  },
  {
   "cell_type": "code",
   "execution_count": 137,
   "id": "e190d535",
   "metadata": {},
   "outputs": [
    {
     "name": "stdout",
     "output_type": "stream",
     "text": [
      "[[ 6.1101 17.592 ]\n",
      " [ 5.5277  9.1302]\n",
      " [ 8.5186 13.662 ]\n",
      " [ 7.0032 11.854 ]\n",
      " [ 5.8598  6.8233]]\n"
     ]
    }
   ],
   "source": [
    "#First we read the dataset into a variable, and print the dataset for our view. X is the population of the city, and y is the\n",
    "#profit gained from the city. A negative y value is loss.\n",
    "\n",
    "import numpy as np\n",
    "\n",
    "file = 'dataset.txt'\n",
    "data = np.loadtxt(file, delimiter=',', skiprows = 0, dtype = float)\n",
    "print(data[:5])"
   ]
  },
  {
   "cell_type": "code",
   "execution_count": 138,
   "id": "cd103cf0",
   "metadata": {},
   "outputs": [
    {
     "data": {
      "image/png": "[encoded data removed]",
      "text/plain": [
       "<Figure size 432x288 with 1 Axes>"
      ]
     },
     "metadata": {
      "needs_background": "light"
     },
     "output_type": "display_data"
    }
   ],
   "source": [
    "#Let's visualise this data, with x-axis being the population and y-axis being the profit. We need to fit a best-fit line through\n",
    "#this graph.\n",
    "\n",
    "import matplotlib.pyplot as plt\n",
    "\n",
    "X1 = []\n",
    "y = []\n",
    "for i in data:\n",
    "    X1.append(i[0])\n",
    "    y.append(i[1])\n",
    "\n",
    "X1 = np.array(X1).reshape(97, 1)\n",
    "y = np.array(y).reshape(97, 1)\n",
    "m = len(data) #number of traning examples\n",
    "\n",
    "plt.xlabel('Population')\n",
    "plt.ylabel('Profit')\n",
    "plt.scatter(X1, y)\n",
    "plt.show()"
   ]
  },
  {
   "cell_type": "code",
   "execution_count": 139,
   "id": "f2537749",
   "metadata": {},
   "outputs": [
    {
     "name": "stdout",
     "output_type": "stream",
     "text": [
      "Cost for theta as zeros is: 32.072733877455676\n"
     ]
    }
   ],
   "source": [
    "#We will now write the cost function, and compute the cost on the sample value of theta at zero.\n",
    "\n",
    "X0 = np.ones(len(X1), dtype = float).reshape(97, 1) #Making the X0 values all ones\n",
    "X = np.append(X0, X1, axis=1).reshape(97, 2)\n",
    "theta = np.zeros((2, 1))\n",
    "\n",
    "#Creating function of cost function\n",
    "def computeCost(X, y, theta):\n",
    "    J = (1/(2*m))*(np.sum(np.square((X @ theta) - y)))\n",
    "    return J;\n",
    "\n",
    "#Computing the cost on for theta values as zero\n",
    "J = computeCost(X, y, theta)\n",
    "print(\"Cost for theta as zeros is:\", J)"
   ]
  },
  {
   "cell_type": "code",
   "execution_count": 140,
   "id": "22bd0442",
   "metadata": {},
   "outputs": [
    {
     "name": "stdout",
     "output_type": "stream",
     "text": [
      "The theta values after computing is:\n",
      "theta0: [-3.63029144] theta1: [1.16636235]\n"
     ]
    }
   ],
   "source": [
    "#Let's move to gradient descent\n",
    "\n",
    "alpha = 0.01\n",
    "iterations = 1500 #we will run our gradient descent these many times\n",
    "\n",
    "def gradientDescent(X, y, theta, alpha, iterations, m):\n",
    "    J_history = np.zeros(iterations).reshape(iterations, 1)\n",
    "    for iter in range(iterations):\n",
    "        theta = theta - ((alpha/m)*(X.transpose() @ ((X @ theta)-y)))\n",
    "        J_history[iter] = computeCost(X, y, theta)\n",
    "    return [theta, J_history]\n",
    "\n",
    "returned = gradientDescent(X, y, theta, alpha, iterations, m)\n",
    "theta = returned[0]\n",
    "J_history = returned[1]\n",
    "\n",
    "print(\"The theta values after computing is:\\ntheta0:\", theta[0], \"theta1:\", theta[1])"
   ]
  },
  {
   "cell_type": "code",
   "execution_count": 141,
   "id": "fde49c8e",
   "metadata": {},
   "outputs": [
    {
     "name": "stdout",
     "output_type": "stream",
     "text": [
      "Prediction of profit for a population of 70,000: [[45342.45012945]]\n",
      "Prediction of profit for a population of 35,000: [[4519.7678677]]\n"
     ]
    }
   ],
   "source": [
    "#Having computed the minimas, we are now at a position to predict the profit for arbitrary populations.\n",
    "\n",
    "prediction1 = (np.array([1, 7]).reshape(1, 2)) @ theta #prediction for a population of 70,000\n",
    "prediction2 = (np.array([1, 3.5]).reshape(1, 2)) @ theta #prediction for a population of 35,000\n",
    "\n",
    "print(\"Prediction of profit for a population of 70,000:\", prediction1*10000)\n",
    "print(\"Prediction of profit for a population of 35,000:\", prediction2*10000)"
   ]
  },
  {
   "cell_type": "code",
   "execution_count": 144,
   "id": "b0be475e",
   "metadata": {},
   "outputs": [
    {
     "data": {
      "text/plain": [
       "[<matplotlib.lines.Line2D at 0x212c1a32d40>]"
      ]
     },
     "execution_count": 144,
     "metadata": {},
     "output_type": "execute_result"
    },
    {
     "data": {
      "image/png": "[encoded data removed]",
      "text/plain": [
       "<Figure size 432x288 with 1 Axes>"
      ]
     },
     "metadata": {
      "needs_background": "light"
     },
     "output_type": "display_data"
    }
   ],
   "source": [
    "#We will also plot the value of the cost function after each iteration, to see the value reach a minimum and converge to a\n",
    "#stabalised value\n",
    "plt.xlabel('Iterations')\n",
    "plt.ylabel('Cost function history')\n",
    "plt.plot(range(1500), J_history)"
   ]
  },
  {
   "cell_type": "code",
   "execution_count": null,
   "id": "4c69a53f",
   "metadata": {},
   "outputs": [],
   "source": []
  }
 ],
 "metadata": {
  "kernelspec": {
   "display_name": "Python 3 (ipykernel)",
   "language": "python",
   "name": "python3"
  },
  "language_info": {
   "codemirror_mode": {
    "name": "ipython",
    "version": 3
   },
   "file_extension": ".py",
   "mimetype": "text/x-python",
   "name": "python",
   "nbconvert_exporter": "python",
   "pygments_lexer": "ipython3",
   "version": "3.10.0"
  }
 },
 "nbformat": 4,
 "nbformat_minor": 5
}
